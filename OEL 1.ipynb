{
  "metadata": {
    "kernelspec": {
      "name": "python",
      "display_name": "Python (Pyodide)",
      "language": "python"
    },
    "language_info": {
      "codemirror_mode": {
        "name": "python",
        "version": 3
      },
      "file_extension": ".py",
      "mimetype": "text/x-python",
      "name": "python",
      "nbconvert_exporter": "python",
      "pygments_lexer": "ipython3",
      "version": "3.8"
    }
  },
  "nbformat_minor": 5,
  "nbformat": 4,
  "cells": [
    {
      "id": "6577f700-bcec-4a59-8336-3c4a4127d442",
      "cell_type": "code",
      "source": "import pandas as pd\n\ndata = pd.read_csv('passenger_data.csv')\ndata['age'] = pd.to_numeric(data['age'], errors='coerce') # this convert the string age into interger to apply bonus function \n\ntotal = len(data) # get total number of passengers\nprint(\"1. Total passengers:\", total)\n\nprint(\"\\n2. Passengers per destination:\")\ndestination_counts = data['destination'].value_counts() # count passenger per destination\nprint(destination_counts)\n\nprint(\"\\n3. Avg ticket price (male vs female):\") # avg ticket price for male/ female \ngender_avg_price = data.groupby('gender')['ticket_price'].mean()\nprint(gender_avg_price)\n\ndef get_passengers_by_destination(dest): # to check passenger by destination\n    passengers = data[data['destination'].str.lower() == dest.lower()]['name']\n    return list(passengers)\n\nkarachi_passengers = get_passengers_by_destination(\"Karachi\") # all peoples going to karachi will be checked by this \nprint(\"\\n4. People going to Karachi:\", karachi_passengers)\n\ndef get_highest_paying_passenger():   # this will show the highest paying  passenger\n    max_ticket_price = data['ticket_price'].max()\n    max_row = data[data['ticket_price'] == max_ticket_price].iloc[0]\n    return max_row['name'], max_row['destination']\n\nhighest_name, highest_place = get_highest_paying_passenger()\nprint(\"\\n5. Highest paying passenger:\", highest_name, \"to\", highest_place)\n\nsorted_data = data.sort_values(by='ticket_price', ascending=False) # this will return top 3 ticket price\ntop_3 = sorted_data[['name', 'age', 'ticket_price']].head(3)\nprint(\"\\n6. Top 3 by ticket price:\")\nprint(top_3)\n\n\n\n",
      "metadata": {
        "trusted": true
      },
      "outputs": [
        {
          "name": "stdout",
          "output_type": "stream",
          "text": "1. Total passengers: 50\n\n2. Passengers per destination:\ndestination\nLahore       12\nQuetta       12\nKarachi      10\nIslamabad     9\nPeshawar      7\nName: count, dtype: int64\n\n3. Avg ticket price (male vs female):\ngender\nF    14855.464286\nM    14581.727273\nName: ticket_price, dtype: float64\n\n ['Usman Rafiq', 'Ayesha Noor', 'Usman Rafiq', 'Iqra Ahmed', 'Taha Kamal', 'Laiba Yousuf', 'Hiba Noor', 'Bilal Aslam', 'Mariam Ali', 'Mariam Ali']\n\n Ayesha Noor to Quettaenger:\n\n6. Top 3 by ticket price:\n            name  age  ticket_price\n14   Ayesha Noor   33         19950\n16  Ahmed Nadeem   28         19780\n22  Ahmed Nadeem   34         19636\n"
        }
      ],
      "execution_count": 7
    },
    {
      "id": "bdd62b62-5a7f-44b2-b659-91efb661d9c4",
      "cell_type": "code",
      "source": "",
      "metadata": {
        "trusted": true
      },
      "outputs": [],
      "execution_count": null
    },
    {
      "id": "6a20a6cf-b408-4ba1-b6f5-d08486c43e3e",
      "cell_type": "code",
      "source": "",
      "metadata": {
        "trusted": true
      },
      "outputs": [],
      "execution_count": null
    }
  ]
}